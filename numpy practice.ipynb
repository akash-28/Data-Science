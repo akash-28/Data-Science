{
 "cells": [
  {
   "cell_type": "markdown",
   "metadata": {},
   "source": [
    "# numpy practice"
   ]
  },
  {
   "cell_type": "code",
   "execution_count": 2,
   "metadata": {},
   "outputs": [],
   "source": [
    "import numpy as np"
   ]
  },
  {
   "cell_type": "code",
   "execution_count": 3,
   "metadata": {},
   "outputs": [
    {
     "data": {
      "text/plain": [
       "622"
      ]
     },
     "execution_count": 3,
     "metadata": {},
     "output_type": "execute_result"
    }
   ],
   "source": [
    "len(dir(np))"
   ]
  },
  {
   "cell_type": "code",
   "execution_count": 4,
   "metadata": {},
   "outputs": [],
   "source": [
    "###\n",
    "#main data structure - numpy n-dim array (array)"
   ]
  },
  {
   "cell_type": "code",
   "execution_count": 5,
   "metadata": {},
   "outputs": [
    {
     "name": "stdout",
     "output_type": "stream",
     "text": [
      "<class 'list'> [50000, 60000, 70000, (10.0, 'a')]\n"
     ]
    }
   ],
   "source": [
    "sal = [50000, 60000,70000, (10.0,'a')] \n",
    "print(type(sal), sal)\n",
    "\n"
   ]
  },
  {
   "cell_type": "code",
   "execution_count": 6,
   "metadata": {},
   "outputs": [
    {
     "name": "stdout",
     "output_type": "stream",
     "text": [
      "<class 'numpy.ndarray'> [50000 60000 70000 (10.0, 'a')]\n"
     ]
    }
   ],
   "source": [
    "#to convert the list to an array use numpy\n",
    "arr = np.array(sal)\n",
    "print(type(arr),arr)"
   ]
  },
  {
   "cell_type": "code",
   "execution_count": 7,
   "metadata": {},
   "outputs": [
    {
     "name": "stdout",
     "output_type": "stream",
     "text": [
      "4 <class 'numpy.ndarray'> object\n"
     ]
    }
   ],
   "source": [
    "print(arr.size, type(arr), arr.dtype)"
   ]
  },
  {
   "cell_type": "code",
   "execution_count": 8,
   "metadata": {},
   "outputs": [
    {
     "data": {
      "text/plain": [
       "array([1, 2, 3, list(['4']), 5], dtype=object)"
      ]
     },
     "execution_count": 8,
     "metadata": {},
     "output_type": "execute_result"
    }
   ],
   "source": [
    "#accessing the values\n",
    "\n",
    "arr1 = np.array([1,2,3,['4'],5])\n",
    "arr1[0:]\n",
    "#print(type(arr1[0:]))\n",
    "\n",
    "\n"
   ]
  },
  {
   "cell_type": "code",
   "execution_count": 9,
   "metadata": {},
   "outputs": [
    {
     "data": {
      "text/plain": [
       "array([ 1,  2, 11,  4,  5,  6,  7,  8,  9, 10])"
      ]
     },
     "execution_count": 9,
     "metadata": {},
     "output_type": "execute_result"
    }
   ],
   "source": [
    "#modifying the values\n",
    "\n",
    "arr2 = np.array(range(1,11))\n",
    "arr2[2]=11\n",
    "\n",
    "arr2\n"
   ]
  },
  {
   "cell_type": "code",
   "execution_count": 10,
   "metadata": {},
   "outputs": [
    {
     "data": {
      "text/plain": [
       "array([['a', 'one'],\n",
       "       ['b', 'two']], dtype='<U3')"
      ]
     },
     "execution_count": 10,
     "metadata": {},
     "output_type": "execute_result"
    }
   ],
   "source": [
    "#ways to create an array object using numpy\n",
    "'''\n",
    "np.array()\n",
    "np.empty()\n",
    "np.zeros()\n",
    "np.ones()\n",
    "np.linspace()\n",
    "np.arange()\n",
    "np.random.rand*()\n",
    "\n",
    "'''\n",
    "lst = [1,2,3]\n",
    "tup=('a','a','b','c')\n",
    "set1 = {'a','b',11}\n",
    "dict1 = {'a':'one', 'b':'two'}\n",
    "#np.array(dict1) #creating a numy array from list of tuple\n",
    "data = list(dict1.items())\n",
    "np.array(data)\n"
   ]
  },
  {
   "cell_type": "code",
   "execution_count": 11,
   "metadata": {},
   "outputs": [
    {
     "name": "stdout",
     "output_type": "stream",
     "text": [
      "/////////////////////////\n",
      "[[[[[-1280404416         587 -1292806944         587]]\n",
      "\n",
      "   [[    1733235   460455936  -637534208  1685024006]]\n",
      "\n",
      "   [[ 1516596341  1685024011  1600482421  1752457584]]]\n",
      "\n",
      "\n",
      "  [[[ 2037386074  1953719668  1735549279     1536627]]\n",
      "\n",
      "   [[  678559744  -637534208  1668834563        3698]]\n",
      "\n",
      "   [[     946688   259129344  -637534208  1667194632]]]]\n",
      "\n",
      "\n",
      "\n",
      " [[[[ 1600941153       19295     6320896   788529152]]\n",
      "\n",
      "   [[  151519496    51511564    84542214    17432842]]\n",
      "\n",
      "   [[   16909334    16908546    67633410    67633410]]]\n",
      "\n",
      "\n",
      "  [[[   16908546    16908546    16908546    16908546]]\n",
      "\n",
      "   [[   17040392    17039880    17302028    17039894]]\n",
      "\n",
      "   [[   17302030    17432846    17433100    17433102]]]]\n",
      "\n",
      "\n",
      "\n",
      " [[[[   68289032    16908806    17957134   360317464]]\n",
      "\n",
      "   [[ 1702132048  1700033651  1919251571  1667194670]]\n",
      "\n",
      "   [[ 1600941153  1913071967          20        1906]]]\n",
      "\n",
      "\n",
      "  [[[ 1179012608        5490   103370240  1600063706]]\n",
      "\n",
      "   [[ 1701667182   182083423  1869438815  1701606756]]\n",
      "\n",
      "   [[  215637855  1970364255  1634626657  1600087405]]]]\n",
      "\n",
      "\n",
      "\n",
      " [[[[ 1600063450  1600352100     1274463   745668608]]\n",
      "\n",
      "   [[ 1912602624          14        3698      946688]]\n",
      "\n",
      "   [[  259129344  1912602624           5          47]]]\n",
      "\n",
      "\n",
      "  [[[       2163    68683776      198657  1913334017]]\n",
      "\n",
      "   [[         48  1600064090  1970566502  1600087410]]\n",
      "\n",
      "   [[        626      225792    74579968  1912602624]]]]\n",
      "\n",
      "\n",
      "\n",
      " [[[[         28        7794  1594350080  1819042143]]\n",
      "\n",
      "   [[  275930975  -637534208  1784835846  1920230245]]\n",
      "\n",
      "   [[          5        3698      946688   242352128]]]\n",
      "\n",
      "\n",
      "  [[[ 1912602624          15  1832650970  1819632751]]\n",
      "\n",
      "   [[    1916517   208863232    67108864   134353921]]\n",
      "\n",
      "   [[  100796417      526340   537552128  1042292768]]]]]\n"
     ]
    }
   ],
   "source": [
    "# multi dimensonal array\n",
    "arr1 = np.empty(5,dtype=int)\n",
    "arr2 = np.empty((5,2),dtype=int)\n",
    "arr3 = np.empty((5,2,3,1,4),dtype=int)\n",
    "# print(arr1)\n",
    "# print('/////////////////////////')\n",
    "# print(arr2)\n",
    "print('/////////////////////////')\n",
    "print(arr3)"
   ]
  },
  {
   "cell_type": "code",
   "execution_count": 12,
   "metadata": {},
   "outputs": [
    {
     "data": {
      "text/plain": [
       "array([[0, 0],\n",
       "       [0, 0],\n",
       "       [0, 0],\n",
       "       [0, 0],\n",
       "       [0, 0]])"
      ]
     },
     "execution_count": 12,
     "metadata": {},
     "output_type": "execute_result"
    }
   ],
   "source": [
    "np.zeros((5,2),int)"
   ]
  },
  {
   "cell_type": "code",
   "execution_count": 13,
   "metadata": {},
   "outputs": [
    {
     "data": {
      "text/plain": [
       "array([[ True,  True],\n",
       "       [ True,  True],\n",
       "       [ True,  True],\n",
       "       [ True,  True],\n",
       "       [ True,  True]])"
      ]
     },
     "execution_count": 13,
     "metadata": {},
     "output_type": "execute_result"
    }
   ],
   "source": [
    "np.ones((5,2),bool)"
   ]
  },
  {
   "cell_type": "code",
   "execution_count": 14,
   "metadata": {},
   "outputs": [],
   "source": [
    "# list(range(1,10,2))"
   ]
  },
  {
   "cell_type": "code",
   "execution_count": 15,
   "metadata": {},
   "outputs": [
    {
     "data": {
      "text/plain": [
       "array([2, 5, 8])"
      ]
     },
     "execution_count": 15,
     "metadata": {},
     "output_type": "execute_result"
    }
   ],
   "source": [
    "np.arange(2,10,3) #arange generates only 1-D array"
   ]
  },
  {
   "cell_type": "code",
   "execution_count": 16,
   "metadata": {},
   "outputs": [
    {
     "data": {
      "text/plain": [
       "array([ 1.        ,  1.80555556,  2.61111111,  3.41666667,  4.22222222,\n",
       "        5.02777778,  5.83333333,  6.63888889,  7.44444444,  8.25      ,\n",
       "        9.05555556,  9.86111111, 10.66666667, 11.47222222, 12.27777778,\n",
       "       13.08333333, 13.88888889, 14.69444444, 15.5       , 16.30555556,\n",
       "       17.11111111, 17.91666667, 18.72222222, 19.52777778, 20.33333333,\n",
       "       21.13888889, 21.94444444, 22.75      , 23.55555556, 24.36111111,\n",
       "       25.16666667, 25.97222222, 26.77777778, 27.58333333, 28.38888889,\n",
       "       29.19444444, 30.        ])"
      ]
     },
     "execution_count": 16,
     "metadata": {},
     "output_type": "execute_result"
    }
   ],
   "source": [
    "np.linspace(1,30,37) #by default it gives 50 values"
   ]
  },
  {
   "cell_type": "code",
   "execution_count": 114,
   "metadata": {},
   "outputs": [
    {
     "data": {
      "text/plain": [
       "5"
      ]
     },
     "execution_count": 114,
     "metadata": {},
     "output_type": "execute_result"
    }
   ],
   "source": [
    "np.random.randint(1,6)"
   ]
  },
  {
   "cell_type": "code",
   "execution_count": 18,
   "metadata": {},
   "outputs": [
    {
     "name": "stdout",
     "output_type": "stream",
     "text": [
      "6\n",
      "7\n",
      "8\n",
      "9\n",
      "8\n",
      "7\n",
      "8\n",
      "5\n",
      "9\n"
     ]
    }
   ],
   "source": [
    "for i in range(1,10):\n",
    "    print(np.random.randint(5,10))\n",
    "    "
   ]
  },
  {
   "cell_type": "code",
   "execution_count": 19,
   "metadata": {},
   "outputs": [
    {
     "data": {
      "text/plain": [
       "array([45, 46, 18, 26, 26, 16, 39,  8, 51, 12])"
      ]
     },
     "execution_count": 19,
     "metadata": {},
     "output_type": "execute_result"
    }
   ],
   "source": [
    "np.random.randint(5,55,10)"
   ]
  },
  {
   "cell_type": "code",
   "execution_count": 20,
   "metadata": {},
   "outputs": [
    {
     "data": {
      "text/plain": [
       "array([[[ 0.02399367,  0.00617173],\n",
       "        [ 1.51772301,  1.52161888]],\n",
       "\n",
       "       [[-1.75680184,  2.13828235],\n",
       "        [ 0.66468139,  0.37199166]],\n",
       "\n",
       "       [[-0.22066195,  1.3652475 ],\n",
       "        [-0.62008834,  0.25489594]],\n",
       "\n",
       "       [[-1.03399025,  1.49744549],\n",
       "        [-0.72946735, -1.0939574 ]],\n",
       "\n",
       "       [[ 0.88084835, -0.66388896],\n",
       "        [-0.72831817,  0.49970846]],\n",
       "\n",
       "       [[-0.50439965, -0.25935566],\n",
       "        [ 1.03692687, -1.07019237]]])"
      ]
     },
     "execution_count": 20,
     "metadata": {},
     "output_type": "execute_result"
    }
   ],
   "source": [
    "np.random.randn(6,2,2) #the values follows normal distribution"
   ]
  },
  {
   "cell_type": "code",
   "execution_count": 21,
   "metadata": {},
   "outputs": [
    {
     "data": {
      "text/plain": [
       "array([[0.00181598, 0.7794226 ],\n",
       "       [0.57402552, 0.51273309],\n",
       "       [0.73931797, 0.36409531],\n",
       "       [0.22029394, 0.10539788],\n",
       "       [0.94367156, 0.01305865],\n",
       "       [0.19145521, 0.60881711],\n",
       "       [0.41735291, 0.47622916]])"
      ]
     },
     "execution_count": 21,
     "metadata": {},
     "output_type": "execute_result"
    }
   ],
   "source": [
    "np.random.rand(7,2) #follows unfirom distribution and number are bw 0 - 1"
   ]
  },
  {
   "cell_type": "code",
   "execution_count": 22,
   "metadata": {},
   "outputs": [
    {
     "data": {
      "text/plain": [
       "array([[0.26292592, 0.45163615],\n",
       "       [0.93708088, 0.12912092],\n",
       "       [0.46986547, 0.40615705],\n",
       "       [0.95754512, 0.89900611],\n",
       "       [0.7760807 , 0.18208891],\n",
       "       [0.47870997, 0.53736399]])"
      ]
     },
     "execution_count": 22,
     "metadata": {},
     "output_type": "execute_result"
    }
   ],
   "source": [
    "#accessing elements of higher dimension array\n",
    "arr = np.random.rand(6,2)\n",
    "arr\n"
   ]
  },
  {
   "cell_type": "code",
   "execution_count": 23,
   "metadata": {},
   "outputs": [
    {
     "data": {
      "text/plain": [
       "0.18208891238416725"
      ]
     },
     "execution_count": 23,
     "metadata": {},
     "output_type": "execute_result"
    }
   ],
   "source": [
    "arr[4][1]"
   ]
  },
  {
   "cell_type": "code",
   "execution_count": 24,
   "metadata": {},
   "outputs": [
    {
     "data": {
      "text/plain": [
       "array([[0.95754512, 0.89900611],\n",
       "       [0.7760807 , 0.18208891]])"
      ]
     },
     "execution_count": 24,
     "metadata": {},
     "output_type": "execute_result"
    }
   ],
   "source": [
    "###slicing on n-dim array [row_range, col_range] => [r0:rN, c0:cN]\n",
    "arr[3:5][:]\n",
    "\n",
    "\n"
   ]
  },
  {
   "cell_type": "code",
   "execution_count": 37,
   "metadata": {},
   "outputs": [
    {
     "data": {
      "text/plain": [
       "[32000, 43000, 25000, 48000, 60000]"
      ]
     },
     "execution_count": 37,
     "metadata": {},
     "output_type": "execute_result"
    }
   ],
   "source": [
    "#operations on array\n",
    "\n",
    "salary = [30000, 40000, 20000, 40000, 50000]\n",
    "bonus = [2000, 3000, 5000, 8000, 10000]\n",
    "\n",
    "#add salary and bonus\n",
    "total_salary = []\n",
    "\n",
    "total_salary = [b+s for b,s in zip(salary, bonus)]\n",
    "total_salary\n",
    "\n"
   ]
  },
  {
   "cell_type": "code",
   "execution_count": 38,
   "metadata": {},
   "outputs": [
    {
     "data": {
      "text/plain": [
       "array([32000, 43000, 25000, 48000, 60000])"
      ]
     },
     "execution_count": 38,
     "metadata": {},
     "output_type": "execute_result"
    }
   ],
   "source": [
    "asalary = np.array(salary)\n",
    "abonus = np.array(bonus)\n",
    "asalary+abonus #vector operation #element-wise addition"
   ]
  },
  {
   "cell_type": "code",
   "execution_count": 39,
   "metadata": {},
   "outputs": [
    {
     "name": "stdout",
     "output_type": "stream",
     "text": [
      "[30000, 40000, 20000, 40000, 50000, 30000, 40000, 20000, 40000, 50000]\n",
      "[ 60000  80000  40000  80000 100000]\n"
     ]
    }
   ],
   "source": [
    "print(salary*2)\n",
    "print(asalary*2) #element-wise multiplication [broadcasting]"
   ]
  },
  {
   "cell_type": "code",
   "execution_count": 41,
   "metadata": {},
   "outputs": [],
   "source": [
    "#asalary**.2"
   ]
  },
  {
   "cell_type": "code",
   "execution_count": 42,
   "metadata": {},
   "outputs": [
    {
     "data": {
      "text/plain": [
       "array([ True,  True,  True,  True,  True])"
      ]
     },
     "execution_count": 42,
     "metadata": {},
     "output_type": "execute_result"
    }
   ],
   "source": [
    "asalary>10000"
   ]
  },
  {
   "cell_type": "code",
   "execution_count": 43,
   "metadata": {},
   "outputs": [
    {
     "data": {
      "text/plain": [
       "array([40000, 40000, 50000])"
      ]
     },
     "execution_count": 43,
     "metadata": {},
     "output_type": "execute_result"
    }
   ],
   "source": [
    "\n",
    "asalary[asalary>35000]\n"
   ]
  },
  {
   "cell_type": "code",
   "execution_count": 50,
   "metadata": {},
   "outputs": [
    {
     "data": {
      "text/plain": [
       "20000"
      ]
     },
     "execution_count": 50,
     "metadata": {},
     "output_type": "execute_result"
    }
   ],
   "source": [
    "asalary[~(asalary>35000)] #values less than 35000\n"
   ]
  },
  {
   "cell_type": "code",
   "execution_count": 55,
   "metadata": {},
   "outputs": [
    {
     "data": {
      "text/plain": [
       "list"
      ]
     },
     "execution_count": 55,
     "metadata": {},
     "output_type": "execute_result"
    }
   ],
   "source": [
    "#built in functions\n",
    "#sum, max, min, len\n",
    "arr.tolist()"
   ]
  },
  {
   "cell_type": "code",
   "execution_count": 59,
   "metadata": {},
   "outputs": [
    {
     "data": {
      "text/plain": [
       "array([ 1.,  2.,  3.,  4.,  5.,  6.,  7.,  8.,  9., 10.])"
      ]
     },
     "execution_count": 59,
     "metadata": {},
     "output_type": "execute_result"
    }
   ],
   "source": [
    "np.linspace(1,10,10)"
   ]
  },
  {
   "cell_type": "code",
   "execution_count": 77,
   "metadata": {},
   "outputs": [],
   "source": [
    "arr5 = np.linspace(1,10,10)\n",
    "arr7 = arr5.reshape(2,5)\n"
   ]
  },
  {
   "cell_type": "code",
   "execution_count": 111,
   "metadata": {},
   "outputs": [
    {
     "data": {
      "text/plain": [
       "(array([5, 6, 7, 8, 9], dtype=int64),)"
      ]
     },
     "execution_count": 111,
     "metadata": {},
     "output_type": "execute_result"
    }
   ],
   "source": [
    "#print(arr7)\n",
    "arr6 = arr7.ravel() #ravel is used to bring the n-dim array back to linear form\n",
    "np.where(arr6>5)"
   ]
  },
  {
   "cell_type": "code",
   "execution_count": 89,
   "metadata": {},
   "outputs": [
    {
     "data": {
      "text/plain": [
       "array([[0.70344283, 0.9460837 , 0.07278351],\n",
       "       [0.14336351, 0.80099237, 0.58347212],\n",
       "       [0.55698544, 0.81418626, 0.11915532],\n",
       "       [0.56350133, 0.9433289 , 0.25821175],\n",
       "       [0.19060346, 0.07050563, 0.6453511 ]])"
      ]
     },
     "execution_count": 89,
     "metadata": {},
     "output_type": "execute_result"
    }
   ],
   "source": [
    "arr1 = np.random.rand(5,3)\n",
    "arr1"
   ]
  },
  {
   "cell_type": "code",
   "execution_count": 90,
   "metadata": {},
   "outputs": [
    {
     "data": {
      "text/plain": [
       "7.411967231780538"
      ]
     },
     "execution_count": 90,
     "metadata": {},
     "output_type": "execute_result"
    }
   ],
   "source": [
    "arr1.sum()"
   ]
  },
  {
   "cell_type": "code",
   "execution_count": 91,
   "metadata": {},
   "outputs": [
    {
     "data": {
      "text/plain": [
       "0.4941311487853692"
      ]
     },
     "execution_count": 91,
     "metadata": {},
     "output_type": "execute_result"
    }
   ],
   "source": [
    "arr1.mean()"
   ]
  },
  {
   "cell_type": "code",
   "execution_count": 92,
   "metadata": {},
   "outputs": [
    {
     "data": {
      "text/plain": [
       "0.07050562722628517"
      ]
     },
     "execution_count": 92,
     "metadata": {},
     "output_type": "execute_result"
    }
   ],
   "source": [
    "arr1.min()"
   ]
  },
  {
   "cell_type": "code",
   "execution_count": 93,
   "metadata": {},
   "outputs": [
    {
     "data": {
      "text/plain": [
       "0.9460837044499508"
      ]
     },
     "execution_count": 93,
     "metadata": {},
     "output_type": "execute_result"
    }
   ],
   "source": [
    "arr1.max()"
   ]
  },
  {
   "cell_type": "code",
   "execution_count": 94,
   "metadata": {},
   "outputs": [
    {
     "data": {
      "text/plain": [
       "15"
      ]
     },
     "execution_count": 94,
     "metadata": {},
     "output_type": "execute_result"
    }
   ],
   "source": [
    "arr1.size"
   ]
  },
  {
   "cell_type": "code",
   "execution_count": 100,
   "metadata": {},
   "outputs": [
    {
     "data": {
      "text/plain": [
       "array([[0.70344283, 0.14336351, 0.55698544, 0.56350133, 0.19060346],\n",
       "       [0.9460837 , 0.80099237, 0.81418626, 0.9433289 , 0.07050563],\n",
       "       [0.07278351, 0.58347212, 0.11915532, 0.25821175, 0.6453511 ]])"
      ]
     },
     "execution_count": 100,
     "metadata": {},
     "output_type": "execute_result"
    }
   ],
   "source": [
    "arr1.T #gives the transpose of the matrix (row becomes column and column becomes rows)"
   ]
  },
  {
   "cell_type": "code",
   "execution_count": 112,
   "metadata": {},
   "outputs": [
    {
     "name": "stdout",
     "output_type": "stream",
     "text": [
      "[[0.70344283 0.9460837  0.07278351]\n",
      " [0.14336351 0.80099237 0.58347212]\n",
      " [0.55698544 0.81418626 0.11915532]\n",
      " [0.56350133 0.9433289  0.25821175]\n",
      " [0.19060346 0.07050563 0.6453511 ]]\n"
     ]
    },
    {
     "data": {
      "text/plain": [
       "(array([0, 0, 0, 1, 1, 1, 2, 2, 2, 3, 3, 3, 4, 4, 4], dtype=int64),\n",
       " array([0, 1, 2, 0, 1, 2, 0, 1, 2, 0, 1, 2, 0, 1, 2], dtype=int64))"
      ]
     },
     "execution_count": 112,
     "metadata": {},
     "output_type": "execute_result"
    }
   ],
   "source": [
    "print(arr1)\n",
    "np.where(arr1>0.05)"
   ]
  },
  {
   "cell_type": "code",
   "execution_count": 106,
   "metadata": {},
   "outputs": [
    {
     "name": "stdout",
     "output_type": "stream",
     "text": [
      "[[1 2 3]\n",
      " [4 5 6]]\n",
      "Indices of elements <4\n",
      "(array([0, 0, 0], dtype=int64), array([0, 1, 2], dtype=int64))\n",
      "Elements which are <4\n",
      "[1 2 3]\n"
     ]
    }
   ],
   "source": [
    "# a = np.array([[1, 2, 3], [4, 5, 6]])\n",
    "  \n",
    "# print(a)\n",
    "  \n",
    "# print ('Indices of elements <4')\n",
    "  \n",
    "# b = np.where(a<4)\n",
    "# print(b)\n",
    "  \n",
    "# print(\"Elements which are <4\")\n",
    "# print(a[b])"
   ]
  },
  {
   "cell_type": "code",
   "execution_count": 113,
   "metadata": {},
   "outputs": [],
   "source": [
    "#np.where(), arr1.corr(), arr1.std(), arr1.argmax(), arr1.argmin(), arr1.all(), arr1.any(), arr1.astype()"
   ]
  },
  {
   "cell_type": "code",
   "execution_count": null,
   "metadata": {},
   "outputs": [],
   "source": []
  },
  {
   "cell_type": "code",
   "execution_count": null,
   "metadata": {},
   "outputs": [],
   "source": []
  },
  {
   "cell_type": "code",
   "execution_count": null,
   "metadata": {},
   "outputs": [],
   "source": []
  }
 ],
 "metadata": {
  "kernelspec": {
   "display_name": "Python 3",
   "language": "python",
   "name": "python3"
  },
  "language_info": {
   "codemirror_mode": {
    "name": "ipython",
    "version": 3
   },
   "file_extension": ".py",
   "mimetype": "text/x-python",
   "name": "python",
   "nbconvert_exporter": "python",
   "pygments_lexer": "ipython3",
   "version": "3.7.4"
  }
 },
 "nbformat": 4,
 "nbformat_minor": 2
}
